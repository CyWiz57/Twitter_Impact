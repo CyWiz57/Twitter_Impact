{
 "cells": [
  {
   "cell_type": "code",
   "execution_count": 1,
   "id": "92b46847",
   "metadata": {
    "execution": {
     "iopub.execute_input": "2021-07-09T04:36:15.756558Z",
     "iopub.status.busy": "2021-07-09T04:36:15.755042Z",
     "iopub.status.idle": "2021-07-09T04:36:16.646013Z",
     "shell.execute_reply": "2021-07-09T04:36:16.645379Z",
     "shell.execute_reply.started": "2021-07-09T04:34:50.734521Z"
    },
    "papermill": {
     "duration": 0.908596,
     "end_time": "2021-07-09T04:36:16.646170",
     "exception": false,
     "start_time": "2021-07-09T04:36:15.737574",
     "status": "completed"
    },
    "tags": []
   },
   "outputs": [],
   "source": [
    "import matplotlib.pyplot as plt\n",
    "import numpy as np\n",
    "import pandas as pd\n",
    "import seaborn as sns\n",
    "\n",
    "\n",
    "# Make numpy printouts easier to read.\n",
    "np.set_printoptions(precision=3, suppress=True)"
   ]
  },
  {
   "cell_type": "code",
   "execution_count": 2,
   "id": "6dcfe1ac",
   "metadata": {
    "execution": {
     "iopub.execute_input": "2021-07-09T04:36:16.671699Z",
     "iopub.status.busy": "2021-07-09T04:36:16.671190Z",
     "iopub.status.idle": "2021-07-09T04:36:20.811287Z",
     "shell.execute_reply": "2021-07-09T04:36:20.811719Z",
     "shell.execute_reply.started": "2021-07-09T04:34:51.570640Z"
    },
    "papermill": {
     "duration": 4.154852,
     "end_time": "2021-07-09T04:36:20.811930",
     "exception": false,
     "start_time": "2021-07-09T04:36:16.657078",
     "status": "completed"
    },
    "tags": []
   },
   "outputs": [
    {
     "name": "stdout",
     "output_type": "stream",
     "text": [
      "2.4.1\n"
     ]
    }
   ],
   "source": [
    "import tensorflow as tf\n",
    "\n",
    "from tensorflow import keras\n",
    "from tensorflow.keras import layers\n",
    "from tensorflow.keras.layers.experimental import preprocessing\n",
    "\n",
    "print(tf.__version__)"
   ]
  },
  {
   "cell_type": "code",
   "execution_count": 3,
   "id": "d03f7edc",
   "metadata": {
    "execution": {
     "iopub.execute_input": "2021-07-09T04:36:20.840175Z",
     "iopub.status.busy": "2021-07-09T04:36:20.839561Z",
     "iopub.status.idle": "2021-07-09T04:36:21.602025Z",
     "shell.execute_reply": "2021-07-09T04:36:21.601112Z",
     "shell.execute_reply.started": "2021-07-09T04:34:55.812484Z"
    },
    "papermill": {
     "duration": 0.777974,
     "end_time": "2021-07-09T04:36:21.602172",
     "exception": false,
     "start_time": "2021-07-09T04:36:20.824198",
     "status": "completed"
    },
    "tags": []
   },
   "outputs": [],
   "source": [
    "import pandas as pd\n",
    "data = pd.read_csv(\"../input/twitter-impact1/Twitter.csv\")"
   ]
  },
  {
   "cell_type": "code",
   "execution_count": 4,
   "id": "c095354d",
   "metadata": {
    "execution": {
     "iopub.execute_input": "2021-07-09T04:36:21.630535Z",
     "iopub.status.busy": "2021-07-09T04:36:21.629870Z",
     "iopub.status.idle": "2021-07-09T04:36:21.663754Z",
     "shell.execute_reply": "2021-07-09T04:36:21.664161Z",
     "shell.execute_reply.started": "2021-07-09T04:34:56.646207Z"
    },
    "papermill": {
     "duration": 0.049805,
     "end_time": "2021-07-09T04:36:21.664300",
     "exception": false,
     "start_time": "2021-07-09T04:36:21.614495",
     "status": "completed"
    },
    "tags": []
   },
   "outputs": [
    {
     "data": {
      "text/plain": [
       "Unnamed: 0              0\n",
       "Id                      0\n",
       "Post Contet             0\n",
       "Sentiment score         0\n",
       "Post Length             0\n",
       "Hashtag count           0\n",
       "Content URL count       0\n",
       "Tweet count             0\n",
       "Followers count         0\n",
       "Listed Count            0\n",
       "Media Type              0\n",
       "Published DateTime      0\n",
       "Mentions Count          0\n",
       "Post author verified    0\n",
       "Likes                   0\n",
       "Shares                  0\n",
       "Comments                0\n",
       "Impact                  0\n",
       "dtype: int64"
      ]
     },
     "execution_count": 4,
     "metadata": {},
     "output_type": "execute_result"
    }
   ],
   "source": [
    "data.isna().sum()"
   ]
  },
  {
   "cell_type": "code",
   "execution_count": 5,
   "id": "c97d98f7",
   "metadata": {
    "execution": {
     "iopub.execute_input": "2021-07-09T04:36:21.704864Z",
     "iopub.status.busy": "2021-07-09T04:36:21.704228Z",
     "iopub.status.idle": "2021-07-09T04:36:21.707302Z",
     "shell.execute_reply": "2021-07-09T04:36:21.706875Z",
     "shell.execute_reply.started": "2021-07-09T04:34:56.684273Z"
    },
    "papermill": {
     "duration": 0.031379,
     "end_time": "2021-07-09T04:36:21.707414",
     "exception": false,
     "start_time": "2021-07-09T04:36:21.676035",
     "status": "completed"
    },
    "tags": []
   },
   "outputs": [],
   "source": [
    "data.drop(['Unnamed: 0', \"Id\",\"Post Contet\",\"Published DateTime\"], inplace=True, axis=1)"
   ]
  },
  {
   "cell_type": "code",
   "execution_count": 6,
   "id": "8087633d",
   "metadata": {
    "execution": {
     "iopub.execute_input": "2021-07-09T04:36:21.740098Z",
     "iopub.status.busy": "2021-07-09T04:36:21.739285Z",
     "iopub.status.idle": "2021-07-09T04:36:21.761303Z",
     "shell.execute_reply": "2021-07-09T04:36:21.761743Z",
     "shell.execute_reply.started": "2021-07-09T04:34:56.703686Z"
    },
    "papermill": {
     "duration": 0.04285,
     "end_time": "2021-07-09T04:36:21.761915",
     "exception": false,
     "start_time": "2021-07-09T04:36:21.719065",
     "status": "completed"
    },
    "tags": []
   },
   "outputs": [
    {
     "data": {
      "text/html": [
       "<div>\n",
       "<style scoped>\n",
       "    .dataframe tbody tr th:only-of-type {\n",
       "        vertical-align: middle;\n",
       "    }\n",
       "\n",
       "    .dataframe tbody tr th {\n",
       "        vertical-align: top;\n",
       "    }\n",
       "\n",
       "    .dataframe thead th {\n",
       "        text-align: right;\n",
       "    }\n",
       "</style>\n",
       "<table border=\"1\" class=\"dataframe\">\n",
       "  <thead>\n",
       "    <tr style=\"text-align: right;\">\n",
       "      <th></th>\n",
       "      <th>Sentiment score</th>\n",
       "      <th>Post Length</th>\n",
       "      <th>Hashtag count</th>\n",
       "      <th>Content URL count</th>\n",
       "      <th>Tweet count</th>\n",
       "      <th>Followers count</th>\n",
       "      <th>Listed Count</th>\n",
       "      <th>Media Type</th>\n",
       "      <th>Mentions Count</th>\n",
       "      <th>Post author verified</th>\n",
       "      <th>Likes</th>\n",
       "      <th>Shares</th>\n",
       "      <th>Comments</th>\n",
       "    </tr>\n",
       "  </thead>\n",
       "  <tbody>\n",
       "    <tr>\n",
       "      <th>0</th>\n",
       "      <td>0.0</td>\n",
       "      <td>17.0</td>\n",
       "      <td>0.0</td>\n",
       "      <td>0.0</td>\n",
       "      <td>1660.0</td>\n",
       "      <td>133.0</td>\n",
       "      <td>0</td>\n",
       "      <td>TEXT</td>\n",
       "      <td>0.0</td>\n",
       "      <td>0.0</td>\n",
       "      <td>0.0</td>\n",
       "      <td>0.0</td>\n",
       "      <td>0.0</td>\n",
       "    </tr>\n",
       "    <tr>\n",
       "      <th>1</th>\n",
       "      <td>19.3</td>\n",
       "      <td>84.0</td>\n",
       "      <td>0.0</td>\n",
       "      <td>1.0</td>\n",
       "      <td>318924.0</td>\n",
       "      <td>1428273.0</td>\n",
       "      <td>5454</td>\n",
       "      <td>TEXT</td>\n",
       "      <td>0.0</td>\n",
       "      <td>1.0</td>\n",
       "      <td>10.0</td>\n",
       "      <td>1.0</td>\n",
       "      <td>0.0</td>\n",
       "    </tr>\n",
       "    <tr>\n",
       "      <th>2</th>\n",
       "      <td>0.0</td>\n",
       "      <td>78.0</td>\n",
       "      <td>0.0</td>\n",
       "      <td>0.0</td>\n",
       "      <td>39976.0</td>\n",
       "      <td>1560.0</td>\n",
       "      <td>0</td>\n",
       "      <td>TEXT</td>\n",
       "      <td>0.0</td>\n",
       "      <td>0.0</td>\n",
       "      <td>0.0</td>\n",
       "      <td>0.0</td>\n",
       "      <td>0.0</td>\n",
       "    </tr>\n",
       "    <tr>\n",
       "      <th>3</th>\n",
       "      <td>0.0</td>\n",
       "      <td>284.0</td>\n",
       "      <td>2.0</td>\n",
       "      <td>0.0</td>\n",
       "      <td>8045.0</td>\n",
       "      <td>27191.0</td>\n",
       "      <td>26</td>\n",
       "      <td>TEXT</td>\n",
       "      <td>0.0</td>\n",
       "      <td>1.0</td>\n",
       "      <td>460.0</td>\n",
       "      <td>219.0</td>\n",
       "      <td>4.0</td>\n",
       "    </tr>\n",
       "    <tr>\n",
       "      <th>4</th>\n",
       "      <td>-20.0</td>\n",
       "      <td>80.0</td>\n",
       "      <td>0.0</td>\n",
       "      <td>1.0</td>\n",
       "      <td>210996.0</td>\n",
       "      <td>2385.0</td>\n",
       "      <td>0</td>\n",
       "      <td>IMAGE</td>\n",
       "      <td>0.0</td>\n",
       "      <td>0.0</td>\n",
       "      <td>0.0</td>\n",
       "      <td>0.0</td>\n",
       "      <td>0.0</td>\n",
       "    </tr>\n",
       "  </tbody>\n",
       "</table>\n",
       "</div>"
      ],
      "text/plain": [
       "   Sentiment score  Post Length  Hashtag count  Content URL count  \\\n",
       "0              0.0         17.0            0.0                0.0   \n",
       "1             19.3         84.0            0.0                1.0   \n",
       "2              0.0         78.0            0.0                0.0   \n",
       "3              0.0        284.0            2.0                0.0   \n",
       "4            -20.0         80.0            0.0                1.0   \n",
       "\n",
       "   Tweet count  Followers count  Listed Count Media Type  Mentions Count  \\\n",
       "0       1660.0            133.0             0       TEXT             0.0   \n",
       "1     318924.0        1428273.0          5454       TEXT             0.0   \n",
       "2      39976.0           1560.0             0       TEXT             0.0   \n",
       "3       8045.0          27191.0            26       TEXT             0.0   \n",
       "4     210996.0           2385.0             0      IMAGE             0.0   \n",
       "\n",
       "   Post author verified  Likes  Shares  Comments  \n",
       "0                   0.0    0.0     0.0       0.0  \n",
       "1                   1.0   10.0     1.0       0.0  \n",
       "2                   0.0    0.0     0.0       0.0  \n",
       "3                   1.0  460.0   219.0       4.0  \n",
       "4                   0.0    0.0     0.0       0.0  "
      ]
     },
     "execution_count": 6,
     "metadata": {},
     "output_type": "execute_result"
    }
   ],
   "source": [
    "X = data.iloc[:, :13]\n",
    "X.head()"
   ]
  },
  {
   "cell_type": "code",
   "execution_count": 7,
   "id": "66a6dde9",
   "metadata": {
    "execution": {
     "iopub.execute_input": "2021-07-09T04:36:21.794447Z",
     "iopub.status.busy": "2021-07-09T04:36:21.793716Z",
     "iopub.status.idle": "2021-07-09T04:36:21.798762Z",
     "shell.execute_reply": "2021-07-09T04:36:21.798266Z",
     "shell.execute_reply.started": "2021-07-09T04:34:56.739166Z"
    },
    "papermill": {
     "duration": 0.024667,
     "end_time": "2021-07-09T04:36:21.798878",
     "exception": false,
     "start_time": "2021-07-09T04:36:21.774211",
     "status": "completed"
    },
    "tags": []
   },
   "outputs": [
    {
     "data": {
      "text/html": [
       "<div>\n",
       "<style scoped>\n",
       "    .dataframe tbody tr th:only-of-type {\n",
       "        vertical-align: middle;\n",
       "    }\n",
       "\n",
       "    .dataframe tbody tr th {\n",
       "        vertical-align: top;\n",
       "    }\n",
       "\n",
       "    .dataframe thead th {\n",
       "        text-align: right;\n",
       "    }\n",
       "</style>\n",
       "<table border=\"1\" class=\"dataframe\">\n",
       "  <thead>\n",
       "    <tr style=\"text-align: right;\">\n",
       "      <th></th>\n",
       "      <th>Impact</th>\n",
       "    </tr>\n",
       "  </thead>\n",
       "  <tbody>\n",
       "    <tr>\n",
       "      <th>0</th>\n",
       "      <td>0.0</td>\n",
       "    </tr>\n",
       "    <tr>\n",
       "      <th>1</th>\n",
       "      <td>110.0</td>\n",
       "    </tr>\n",
       "    <tr>\n",
       "      <th>2</th>\n",
       "      <td>0.0</td>\n",
       "    </tr>\n",
       "    <tr>\n",
       "      <th>3</th>\n",
       "      <td>6830.0</td>\n",
       "    </tr>\n",
       "    <tr>\n",
       "      <th>4</th>\n",
       "      <td>0.0</td>\n",
       "    </tr>\n",
       "  </tbody>\n",
       "</table>\n",
       "</div>"
      ],
      "text/plain": [
       "   Impact\n",
       "0     0.0\n",
       "1   110.0\n",
       "2     0.0\n",
       "3  6830.0\n",
       "4     0.0"
      ]
     },
     "execution_count": 7,
     "metadata": {},
     "output_type": "execute_result"
    }
   ],
   "source": [
    "y = data.iloc[:, 13:]\n",
    "y.head()"
   ]
  },
  {
   "cell_type": "code",
   "execution_count": 8,
   "id": "35379b29",
   "metadata": {
    "execution": {
     "iopub.execute_input": "2021-07-09T04:36:21.829281Z",
     "iopub.status.busy": "2021-07-09T04:36:21.828348Z",
     "iopub.status.idle": "2021-07-09T04:36:21.862337Z",
     "shell.execute_reply": "2021-07-09T04:36:21.862961Z",
     "shell.execute_reply.started": "2021-07-09T04:34:56.754309Z"
    },
    "papermill": {
     "duration": 0.051629,
     "end_time": "2021-07-09T04:36:21.863150",
     "exception": false,
     "start_time": "2021-07-09T04:36:21.811521",
     "status": "completed"
    },
    "tags": []
   },
   "outputs": [
    {
     "data": {
      "text/html": [
       "<div>\n",
       "<style scoped>\n",
       "    .dataframe tbody tr th:only-of-type {\n",
       "        vertical-align: middle;\n",
       "    }\n",
       "\n",
       "    .dataframe tbody tr th {\n",
       "        vertical-align: top;\n",
       "    }\n",
       "\n",
       "    .dataframe thead th {\n",
       "        text-align: right;\n",
       "    }\n",
       "</style>\n",
       "<table border=\"1\" class=\"dataframe\">\n",
       "  <thead>\n",
       "    <tr style=\"text-align: right;\">\n",
       "      <th></th>\n",
       "      <th>Sentiment score</th>\n",
       "      <th>Post Length</th>\n",
       "      <th>Hashtag count</th>\n",
       "      <th>Content URL count</th>\n",
       "      <th>Tweet count</th>\n",
       "      <th>Followers count</th>\n",
       "      <th>Listed Count</th>\n",
       "      <th>Mentions Count</th>\n",
       "      <th>Post author verified</th>\n",
       "      <th>Likes</th>\n",
       "      <th>Shares</th>\n",
       "      <th>Comments</th>\n",
       "      <th>Media Type_IMAGE</th>\n",
       "      <th>Media Type_TEXT</th>\n",
       "      <th>Media Type_VIDEO</th>\n",
       "    </tr>\n",
       "  </thead>\n",
       "  <tbody>\n",
       "    <tr>\n",
       "      <th>0</th>\n",
       "      <td>0.0</td>\n",
       "      <td>17.0</td>\n",
       "      <td>0.0</td>\n",
       "      <td>0.0</td>\n",
       "      <td>1660.0</td>\n",
       "      <td>133.0</td>\n",
       "      <td>0</td>\n",
       "      <td>0.0</td>\n",
       "      <td>0.0</td>\n",
       "      <td>0.0</td>\n",
       "      <td>0.0</td>\n",
       "      <td>0.0</td>\n",
       "      <td>0</td>\n",
       "      <td>1</td>\n",
       "      <td>0</td>\n",
       "    </tr>\n",
       "    <tr>\n",
       "      <th>1</th>\n",
       "      <td>19.3</td>\n",
       "      <td>84.0</td>\n",
       "      <td>0.0</td>\n",
       "      <td>1.0</td>\n",
       "      <td>318924.0</td>\n",
       "      <td>1428273.0</td>\n",
       "      <td>5454</td>\n",
       "      <td>0.0</td>\n",
       "      <td>1.0</td>\n",
       "      <td>10.0</td>\n",
       "      <td>1.0</td>\n",
       "      <td>0.0</td>\n",
       "      <td>0</td>\n",
       "      <td>1</td>\n",
       "      <td>0</td>\n",
       "    </tr>\n",
       "    <tr>\n",
       "      <th>2</th>\n",
       "      <td>0.0</td>\n",
       "      <td>78.0</td>\n",
       "      <td>0.0</td>\n",
       "      <td>0.0</td>\n",
       "      <td>39976.0</td>\n",
       "      <td>1560.0</td>\n",
       "      <td>0</td>\n",
       "      <td>0.0</td>\n",
       "      <td>0.0</td>\n",
       "      <td>0.0</td>\n",
       "      <td>0.0</td>\n",
       "      <td>0.0</td>\n",
       "      <td>0</td>\n",
       "      <td>1</td>\n",
       "      <td>0</td>\n",
       "    </tr>\n",
       "    <tr>\n",
       "      <th>3</th>\n",
       "      <td>0.0</td>\n",
       "      <td>284.0</td>\n",
       "      <td>2.0</td>\n",
       "      <td>0.0</td>\n",
       "      <td>8045.0</td>\n",
       "      <td>27191.0</td>\n",
       "      <td>26</td>\n",
       "      <td>0.0</td>\n",
       "      <td>1.0</td>\n",
       "      <td>460.0</td>\n",
       "      <td>219.0</td>\n",
       "      <td>4.0</td>\n",
       "      <td>0</td>\n",
       "      <td>1</td>\n",
       "      <td>0</td>\n",
       "    </tr>\n",
       "    <tr>\n",
       "      <th>4</th>\n",
       "      <td>-20.0</td>\n",
       "      <td>80.0</td>\n",
       "      <td>0.0</td>\n",
       "      <td>1.0</td>\n",
       "      <td>210996.0</td>\n",
       "      <td>2385.0</td>\n",
       "      <td>0</td>\n",
       "      <td>0.0</td>\n",
       "      <td>0.0</td>\n",
       "      <td>0.0</td>\n",
       "      <td>0.0</td>\n",
       "      <td>0.0</td>\n",
       "      <td>1</td>\n",
       "      <td>0</td>\n",
       "      <td>0</td>\n",
       "    </tr>\n",
       "  </tbody>\n",
       "</table>\n",
       "</div>"
      ],
      "text/plain": [
       "   Sentiment score  Post Length  Hashtag count  Content URL count  \\\n",
       "0              0.0         17.0            0.0                0.0   \n",
       "1             19.3         84.0            0.0                1.0   \n",
       "2              0.0         78.0            0.0                0.0   \n",
       "3              0.0        284.0            2.0                0.0   \n",
       "4            -20.0         80.0            0.0                1.0   \n",
       "\n",
       "   Tweet count  Followers count  Listed Count  Mentions Count  \\\n",
       "0       1660.0            133.0             0             0.0   \n",
       "1     318924.0        1428273.0          5454             0.0   \n",
       "2      39976.0           1560.0             0             0.0   \n",
       "3       8045.0          27191.0            26             0.0   \n",
       "4     210996.0           2385.0             0             0.0   \n",
       "\n",
       "   Post author verified  Likes  Shares  Comments  Media Type_IMAGE  \\\n",
       "0                   0.0    0.0     0.0       0.0                 0   \n",
       "1                   1.0   10.0     1.0       0.0                 0   \n",
       "2                   0.0    0.0     0.0       0.0                 0   \n",
       "3                   1.0  460.0   219.0       4.0                 0   \n",
       "4                   0.0    0.0     0.0       0.0                 1   \n",
       "\n",
       "   Media Type_TEXT  Media Type_VIDEO  \n",
       "0                1                 0  \n",
       "1                1                 0  \n",
       "2                1                 0  \n",
       "3                1                 0  \n",
       "4                0                 0  "
      ]
     },
     "execution_count": 8,
     "metadata": {},
     "output_type": "execute_result"
    }
   ],
   "source": [
    "X = pd.get_dummies(X, columns = ['Media Type'])\n",
    "X.head()"
   ]
  },
  {
   "cell_type": "code",
   "execution_count": 9,
   "id": "39bba428",
   "metadata": {
    "execution": {
     "iopub.execute_input": "2021-07-09T04:36:21.895553Z",
     "iopub.status.busy": "2021-07-09T04:36:21.894850Z",
     "iopub.status.idle": "2021-07-09T04:36:22.039472Z",
     "shell.execute_reply": "2021-07-09T04:36:22.038387Z",
     "shell.execute_reply.started": "2021-07-09T04:34:56.790750Z"
    },
    "papermill": {
     "duration": 0.16248,
     "end_time": "2021-07-09T04:36:22.039599",
     "exception": false,
     "start_time": "2021-07-09T04:36:21.877119",
     "status": "completed"
    },
    "tags": []
   },
   "outputs": [],
   "source": [
    "from sklearn.preprocessing import StandardScaler\n",
    "scaler = StandardScaler()\n",
    "X = scaler.fit_transform(X)\n",
    "y = scaler.fit_transform(y)"
   ]
  },
  {
   "cell_type": "code",
   "execution_count": 10,
   "id": "8533f7c4",
   "metadata": {
    "execution": {
     "iopub.execute_input": "2021-07-09T04:36:22.071683Z",
     "iopub.status.busy": "2021-07-09T04:36:22.071050Z",
     "iopub.status.idle": "2021-07-09T04:36:22.125788Z",
     "shell.execute_reply": "2021-07-09T04:36:22.125332Z",
     "shell.execute_reply.started": "2021-07-09T04:34:56.922851Z"
    },
    "papermill": {
     "duration": 0.072153,
     "end_time": "2021-07-09T04:36:22.125911",
     "exception": false,
     "start_time": "2021-07-09T04:36:22.053758",
     "status": "completed"
    },
    "tags": []
   },
   "outputs": [],
   "source": [
    "from sklearn.model_selection import train_test_split\n",
    "X_train, X_test, y_train, y_test = train_test_split(X, y, test_size = 0.2)"
   ]
  },
  {
   "cell_type": "code",
   "execution_count": 11,
   "id": "9ee6af11",
   "metadata": {
    "execution": {
     "iopub.execute_input": "2021-07-09T04:36:22.158037Z",
     "iopub.status.busy": "2021-07-09T04:36:22.157284Z",
     "iopub.status.idle": "2021-07-09T04:36:24.135009Z",
     "shell.execute_reply": "2021-07-09T04:36:24.134540Z",
     "shell.execute_reply.started": "2021-07-09T04:34:56.982247Z"
    },
    "papermill": {
     "duration": 1.995326,
     "end_time": "2021-07-09T04:36:24.135137",
     "exception": false,
     "start_time": "2021-07-09T04:36:22.139811",
     "status": "completed"
    },
    "tags": []
   },
   "outputs": [],
   "source": [
    "model = keras.Sequential([\n",
    "      layers.Dense(64, activation='relu'),\n",
    "      layers.Dense(64, activation='relu'),\n",
    "      layers.Dense(1, activation = \"relu\")\n",
    "  ])\n",
    "\n",
    "model.compile(loss='mean_absolute_error',\n",
    "                optimizer=tf.keras.optimizers.Adam(0.001),\n",
    "                metrics = \"mean_absolute_error\")\n"
   ]
  },
  {
   "cell_type": "code",
   "execution_count": 12,
   "id": "c2c106e1",
   "metadata": {
    "execution": {
     "iopub.execute_input": "2021-07-09T04:36:24.166736Z",
     "iopub.status.busy": "2021-07-09T04:36:24.166223Z",
     "iopub.status.idle": "2021-07-09T04:36:24.363177Z",
     "shell.execute_reply": "2021-07-09T04:36:24.363771Z",
     "shell.execute_reply.started": "2021-07-09T04:34:58.916064Z"
    },
    "papermill": {
     "duration": 0.216059,
     "end_time": "2021-07-09T04:36:24.363960",
     "exception": false,
     "start_time": "2021-07-09T04:36:24.147901",
     "status": "completed"
    },
    "tags": []
   },
   "outputs": [
    {
     "name": "stdout",
     "output_type": "stream",
     "text": [
      "Model: \"sequential\"\n",
      "_________________________________________________________________\n",
      "Layer (type)                 Output Shape              Param #   \n",
      "=================================================================\n",
      "dense (Dense)                (50000, 64)               1024      \n",
      "_________________________________________________________________\n",
      "dense_1 (Dense)              (50000, 64)               4160      \n",
      "_________________________________________________________________\n",
      "dense_2 (Dense)              (50000, 1)                65        \n",
      "=================================================================\n",
      "Total params: 5,249\n",
      "Trainable params: 5,249\n",
      "Non-trainable params: 0\n",
      "_________________________________________________________________\n"
     ]
    }
   ],
   "source": [
    "input_shape = X.shape  \n",
    "model.build(input_shape) \n",
    "model.summary()"
   ]
  },
  {
   "cell_type": "code",
   "execution_count": 13,
   "id": "e9a778e6",
   "metadata": {
    "execution": {
     "iopub.execute_input": "2021-07-09T04:36:24.396003Z",
     "iopub.status.busy": "2021-07-09T04:36:24.395411Z",
     "iopub.status.idle": "2021-07-09T04:37:02.776885Z",
     "shell.execute_reply": "2021-07-09T04:37:02.776274Z",
     "shell.execute_reply.started": "2021-07-09T04:34:59.111855Z"
    },
    "papermill": {
     "duration": 38.398834,
     "end_time": "2021-07-09T04:37:02.777072",
     "exception": false,
     "start_time": "2021-07-09T04:36:24.378238",
     "status": "completed"
    },
    "tags": []
   },
   "outputs": [
    {
     "name": "stdout",
     "output_type": "stream",
     "text": [
      "Epoch 1/20\n",
      "1000/1000 [==============================] - 3s 2ms/step - loss: 0.5246 - mean_absolute_error: 0.5246 - val_loss: 0.5431 - val_mean_absolute_error: 0.5431\n",
      "Epoch 2/20\n",
      "1000/1000 [==============================] - 2s 2ms/step - loss: 0.5224 - mean_absolute_error: 0.5224 - val_loss: 0.5431 - val_mean_absolute_error: 0.5431\n",
      "Epoch 3/20\n",
      "1000/1000 [==============================] - 2s 2ms/step - loss: 0.5217 - mean_absolute_error: 0.5217 - val_loss: 0.5431 - val_mean_absolute_error: 0.5431\n",
      "Epoch 4/20\n",
      "1000/1000 [==============================] - 2s 2ms/step - loss: 0.5206 - mean_absolute_error: 0.5206 - val_loss: 0.5431 - val_mean_absolute_error: 0.5431\n",
      "Epoch 5/20\n",
      "1000/1000 [==============================] - 2s 2ms/step - loss: 0.5269 - mean_absolute_error: 0.5269 - val_loss: 0.5431 - val_mean_absolute_error: 0.5431\n",
      "Epoch 6/20\n",
      "1000/1000 [==============================] - 2s 2ms/step - loss: 0.5244 - mean_absolute_error: 0.5244 - val_loss: 0.5431 - val_mean_absolute_error: 0.5431\n",
      "Epoch 7/20\n",
      "1000/1000 [==============================] - 2s 2ms/step - loss: 0.5215 - mean_absolute_error: 0.5215 - val_loss: 0.5431 - val_mean_absolute_error: 0.5431\n",
      "Epoch 8/20\n",
      "1000/1000 [==============================] - 2s 2ms/step - loss: 0.5188 - mean_absolute_error: 0.5188 - val_loss: 0.5431 - val_mean_absolute_error: 0.5431\n",
      "Epoch 9/20\n",
      "1000/1000 [==============================] - 2s 2ms/step - loss: 0.5238 - mean_absolute_error: 0.5238 - val_loss: 0.5431 - val_mean_absolute_error: 0.5431\n",
      "Epoch 10/20\n",
      "1000/1000 [==============================] - 2s 2ms/step - loss: 0.5295 - mean_absolute_error: 0.5295 - val_loss: 0.5431 - val_mean_absolute_error: 0.5431\n",
      "Epoch 11/20\n",
      "1000/1000 [==============================] - 2s 2ms/step - loss: 0.5279 - mean_absolute_error: 0.5279 - val_loss: 0.5431 - val_mean_absolute_error: 0.5431\n",
      "Epoch 12/20\n",
      "1000/1000 [==============================] - 2s 2ms/step - loss: 0.5267 - mean_absolute_error: 0.5267 - val_loss: 0.5431 - val_mean_absolute_error: 0.5431\n",
      "Epoch 13/20\n",
      "1000/1000 [==============================] - 2s 2ms/step - loss: 0.5249 - mean_absolute_error: 0.5249 - val_loss: 0.5431 - val_mean_absolute_error: 0.5431\n",
      "Epoch 14/20\n",
      "1000/1000 [==============================] - 2s 2ms/step - loss: 0.5167 - mean_absolute_error: 0.5167 - val_loss: 0.5431 - val_mean_absolute_error: 0.5431\n",
      "Epoch 15/20\n",
      "1000/1000 [==============================] - 2s 2ms/step - loss: 0.5252 - mean_absolute_error: 0.5252 - val_loss: 0.5431 - val_mean_absolute_error: 0.5431\n",
      "Epoch 16/20\n",
      "1000/1000 [==============================] - 2s 2ms/step - loss: 0.5284 - mean_absolute_error: 0.5284 - val_loss: 0.5431 - val_mean_absolute_error: 0.5431\n",
      "Epoch 17/20\n",
      "1000/1000 [==============================] - 2s 2ms/step - loss: 0.5295 - mean_absolute_error: 0.5295 - val_loss: 0.5431 - val_mean_absolute_error: 0.5431\n",
      "Epoch 18/20\n",
      "1000/1000 [==============================] - 2s 2ms/step - loss: 0.5287 - mean_absolute_error: 0.5287 - val_loss: 0.5431 - val_mean_absolute_error: 0.5431\n",
      "Epoch 19/20\n",
      "1000/1000 [==============================] - 2s 2ms/step - loss: 0.5230 - mean_absolute_error: 0.5230 - val_loss: 0.5431 - val_mean_absolute_error: 0.5431\n",
      "Epoch 20/20\n",
      "1000/1000 [==============================] - 2s 2ms/step - loss: 0.5306 - mean_absolute_error: 0.5306 - val_loss: 0.5431 - val_mean_absolute_error: 0.5431\n",
      "CPU times: user 41.7 s, sys: 4.18 s, total: 45.9 s\n",
      "Wall time: 38.4 s\n"
     ]
    }
   ],
   "source": [
    "%%time\n",
    "history = model.fit(\n",
    "    X_train, y_train, \n",
    "    epochs=20,\n",
    "    # Calculate validation results on 20% of the training data\n",
    "    validation_split = 0.2)"
   ]
  },
  {
   "cell_type": "code",
   "execution_count": 14,
   "id": "5db82cab",
   "metadata": {
    "execution": {
     "iopub.execute_input": "2021-07-09T04:37:03.125865Z",
     "iopub.status.busy": "2021-07-09T04:37:03.125338Z",
     "iopub.status.idle": "2021-07-09T04:37:03.766668Z",
     "shell.execute_reply": "2021-07-09T04:37:03.767220Z",
     "shell.execute_reply.started": "2021-07-09T04:35:37.437993Z"
    },
    "papermill": {
     "duration": 0.819423,
     "end_time": "2021-07-09T04:37:03.767386",
     "exception": false,
     "start_time": "2021-07-09T04:37:02.947963",
     "status": "completed"
    },
    "tags": []
   },
   "outputs": [
    {
     "name": "stdout",
     "output_type": "stream",
     "text": [
      "313/313 [==============================] - 1s 2ms/step - loss: 0.5268 - mean_absolute_error: 0.5268\n"
     ]
    }
   ],
   "source": [
    "test_results = {}\n",
    "test_results['linear_model'] = model.evaluate(\n",
    "    X_test, y_test)"
   ]
  },
  {
   "cell_type": "code",
   "execution_count": null,
   "id": "c972b92e",
   "metadata": {
    "papermill": {
     "duration": 0.174377,
     "end_time": "2021-07-09T04:37:04.115847",
     "exception": false,
     "start_time": "2021-07-09T04:37:03.941470",
     "status": "completed"
    },
    "tags": []
   },
   "outputs": [],
   "source": []
  }
 ],
 "metadata": {
  "kernelspec": {
   "display_name": "Python 3",
   "language": "python",
   "name": "python3"
  },
  "language_info": {
   "codemirror_mode": {
    "name": "ipython",
    "version": 3
   },
   "file_extension": ".py",
   "mimetype": "text/x-python",
   "name": "python",
   "nbconvert_exporter": "python",
   "pygments_lexer": "ipython3",
   "version": "3.7.10"
  },
  "papermill": {
   "default_parameters": {},
   "duration": 57.715341,
   "end_time": "2021-07-09T04:37:06.389884",
   "environment_variables": {},
   "exception": null,
   "input_path": "__notebook__.ipynb",
   "output_path": "__notebook__.ipynb",
   "parameters": {},
   "start_time": "2021-07-09T04:36:08.674543",
   "version": "2.3.3"
  }
 },
 "nbformat": 4,
 "nbformat_minor": 5
}
